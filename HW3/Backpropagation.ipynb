{
  "nbformat": 4,
  "nbformat_minor": 0,
  "metadata": {
    "colab": {
      "provenance": []
    },
    "kernelspec": {
      "name": "python3",
      "display_name": "Python 3"
    },
    "language_info": {
      "name": "python"
    }
  },
  "cells": [
    {
      "cell_type": "code",
      "execution_count": null,
      "metadata": {
        "id": "UegGVvqWmp9w"
      },
      "outputs": [],
      "source": [
        "import numpy as np"
      ]
    },
    {
      "cell_type": "code",
      "source": [
        "def sigmoid(x):\n",
        "    return 1 / (1 + np.exp(-x))"
      ],
      "metadata": {
        "id": "lJIOFoilmsBC"
      },
      "execution_count": null,
      "outputs": []
    },
    {
      "cell_type": "code",
      "source": [
        "def sigmoid_derivative(x):\n",
        "    return x * (1 - x)"
      ],
      "metadata": {
        "id": "Uulnx1hcmvXs"
      },
      "execution_count": null,
      "outputs": []
    },
    {
      "cell_type": "code",
      "source": [
        "input_size = 3\n",
        "hidden_size = 2\n",
        "output_size = 1"
      ],
      "metadata": {
        "id": "9BdkH3v6m1uS"
      },
      "execution_count": null,
      "outputs": []
    },
    {
      "cell_type": "code",
      "source": [
        "weights_input_hidden = np.array([[0.2, -0.3], [0.4, 0.1], [-0.5, 0.2]])\n",
        "bias_hidden = np.array([[-0.4, 0.2]])\n",
        "weights_hidden_output = np.array([[-0.3], [-0.2]])\n",
        "bias_output = np.array([[0.1]])"
      ],
      "metadata": {
        "id": "Lk8Mgg8Mm-Hw"
      },
      "execution_count": null,
      "outputs": []
    },
    {
      "cell_type": "code",
      "source": [
        "X = np.array([[1, 0, 1]])\n",
        "y = np.array([[1]])"
      ],
      "metadata": {
        "id": "rcUUA7p_nI29"
      },
      "execution_count": null,
      "outputs": []
    },
    {
      "cell_type": "code",
      "source": [
        "learning_rate = 0.9\n",
        "momentum = 0.9\n",
        "epochs = 2"
      ],
      "metadata": {
        "id": "kxd9SD0gnKzn"
      },
      "execution_count": null,
      "outputs": []
    },
    {
      "cell_type": "code",
      "source": [
        "prev_weights_input_hidden = np.zeros((input_size, hidden_size))\n",
        "prev_bias_hidden = np.zeros(hidden_size)\n",
        "prev_weights_hidden_output = np.zeros((hidden_size, output_size))\n",
        "prev_bias_output = np.zeros(output_size)"
      ],
      "metadata": {
        "id": "Aa4JDpzMxZfs"
      },
      "execution_count": null,
      "outputs": []
    },
    {
      "cell_type": "code",
      "source": [
        "for epoch in range(epochs):\n",
        "    # Forward pass\n",
        "    hidden_layer_activation = np.dot(X, weights_input_hidden) + bias_hidden\n",
        "    hidden_layer_output = sigmoid(hidden_layer_activation)\n",
        "    output_layer_activation = np.dot(hidden_layer_output, weights_hidden_output) + bias_output\n",
        "    predicted_output = sigmoid(output_layer_activation)\n",
        "\n",
        "    # Calculate the mean square error\n",
        "    error = np.mean(np.square(y - predicted_output))\n",
        "\n",
        "    # Backward pass\n",
        "    d_predicted_output = (predicted_output - y) * sigmoid_derivative(predicted_output)\n",
        "    error_hidden_layer = d_predicted_output.dot(weights_hidden_output.T)\n",
        "    d_hidden_layer = error_hidden_layer * sigmoid_derivative(hidden_layer_output)\n",
        "\n",
        "    # Update the weights and biases with Momentum for gradient descent\n",
        "    delta_weights_hidden_output = prev_weights_hidden_output * momentum - np.dot(hidden_layer_output.T, d_predicted_output) * learning_rate\n",
        "    delta_bias_output = prev_bias_output * momentum - np.sum(d_predicted_output, axis=0, keepdims=True) * learning_rate\n",
        "    delta_weights_input_hidden = prev_weights_input_hidden * momentum - np.dot(X.T, d_hidden_layer) * learning_rate\n",
        "    delta_bias_hidden = prev_bias_hidden * momentum - np.sum(d_hidden_layer, axis=0, keepdims=True)\n",
        "\n",
        "    weights_hidden_output += delta_weights_hidden_output\n",
        "    bias_output += delta_bias_output\n",
        "    weights_input_hidden += delta_weights_input_hidden\n",
        "    bias_hidden += delta_bias_hidden\n",
        "\n",
        "    # Update the momentum terms\n",
        "    prev_weights_hidden_output = delta_weights_hidden_output\n",
        "    prev_bias_output = delta_bias_output\n",
        "    prev_weights_input_hidden = delta_weights_input_hidden\n",
        "    prev_bias_hidden = delta_bias_hidden"
      ],
      "metadata": {
        "id": "X1y0JtQon_zM"
      },
      "execution_count": null,
      "outputs": []
    },
    {
      "cell_type": "code",
      "source": [
        "print(\"w11:\", round(weights_input_hidden[0][0], 3))\n",
        "print(\"w12:\", round(weights_input_hidden[0][1], 3))\n",
        "print(\"w21:\", round(weights_input_hidden[1][0], 3))\n",
        "print(\"w22:\", round(weights_input_hidden[1][1], 3))\n",
        "print(\"w31:\", round(weights_input_hidden[2][0], 3))\n",
        "print(\"w32:\", round(weights_input_hidden[2][1], 3))"
      ],
      "metadata": {
        "colab": {
          "base_uri": "https://localhost:8080/"
        },
        "id": "ChVqn1RXbrXw",
        "outputId": "b623ee03-b59e-4017-e3fa-b96a7fc189ca"
      },
      "execution_count": null,
      "outputs": [
        {
          "output_type": "stream",
          "name": "stdout",
          "text": [
            "w11: 0.179\n",
            "w12: -0.315\n",
            "w21: 0.4\n",
            "w22: 0.1\n",
            "w31: -0.521\n",
            "w32: 0.185\n"
          ]
        }
      ]
    },
    {
      "cell_type": "code",
      "source": [
        "print(\"u1:\", round(weights_hidden_output[0][0], 3))\n",
        "print(\"u2:\", round(weights_hidden_output[1][0], 3))"
      ],
      "metadata": {
        "colab": {
          "base_uri": "https://localhost:8080/"
        },
        "id": "lq1Bph1BteFt",
        "outputId": "7d0ac8b2-4104-45bd-8110-d7b8a9115667"
      },
      "execution_count": null,
      "outputs": [
        {
          "output_type": "stream",
          "name": "stdout",
          "text": [
            "u1: -0.19\n",
            "u2: -0.026\n"
          ]
        }
      ]
    },
    {
      "cell_type": "code",
      "source": [
        "print(\"b1:\", round(bias_hidden[0][0], 3))\n",
        "print(\"b2:\", round(bias_hidden[0][1], 3))\n",
        "print(\"b3:\", round(bias_output[0][0], 3))"
      ],
      "metadata": {
        "colab": {
          "base_uri": "https://localhost:8080/"
        },
        "id": "geB5TLZNd4wq",
        "outputId": "f6f18d2f-564c-4597-fb6e-61393cb943bf"
      },
      "execution_count": null,
      "outputs": [
        {
          "output_type": "stream",
          "name": "stdout",
          "text": [
            "b1: -0.424\n",
            "b2: 0.183\n",
            "b3: 0.433\n"
          ]
        }
      ]
    }
  ]
}